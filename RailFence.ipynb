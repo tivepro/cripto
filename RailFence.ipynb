{
 "cells": [
  {
   "cell_type": "code",
   "execution_count": 35,
   "metadata": {},
   "outputs": [],
   "source": [
    "#!/usr/bin/env python\n",
    "# -*- coding: utf-8 -*-\n",
    "\n",
    "\n",
    "\n",
    "# --- IMPLEMENTATION GOES HERE ---------------------------------------------\n",
    "#  Student helpers (functions, constants, etc.) can be defined here, if needed\n",
    "import random\n",
    "\n",
    "def getRandom(minRan,maxRan=10):\n",
    "    return random.randint(minRan, maxRan)\n",
    "\n",
    "\n",
    "\n",
    "\n",
    "# --------------------------------------------------------------------------\n",
    "\n",
    "\n",
    "def uoc_railfence_genkey(max_rails=10, num_holes=0, max_hole_pos=100):\n",
    "    \"\"\"\n",
    "    Generates a random key for the modified rail fence cipher. A key is a two-element tuple:\n",
    "    - the first element is an integer with the number of rails\n",
    "    - the second element is a list of holes. Each hole is a tuple (rail number, column number)\n",
    "\n",
    "    :param max_rails: optional parameter (defaults to 10), maximum number of rails.\n",
    "    :param num_holes: optional parameter (detaults to 0), number of holes to include in the fence.\n",
    "    :param max_hole_pos: optional parameter (defaults to 100), maximum column value for holes.\n",
    "    :return:\n",
    "    \"\"\"\n",
    "\n",
    "    key = (None, [])\n",
    "\n",
    "    num_rails=getRandom(0,max_rails) \n",
    "    \n",
    "    # --- IMPLEMENTATION GOES HERE ---\n",
    "    listHoles=[ ((getRandom(0,max_rails)),getRandom(0,max_hole_pos))  for n in range(num_holes)]\n",
    "    key =(num_rails,listHoles)\n",
    "    # --------------------------------\n",
    "\n",
    "    return key\n",
    "\n",
    "\n",
    "def uoc_railfence_encrypt(message, key):\n",
    "    \"\"\"\n",
    "    Ciphers the message with the key, using the modified rail fence cipher.\n",
    "\n",
    "    :param message: string, message to cipher (may contain upper and lower case letters, spaces,\n",
    "        and basic symbols (!, -, and _)\n",
    "    :param key: rail fence cipher key, as returned by uoc_railfence_genkey\n",
    "    :return: string, ciphered message\n",
    "    \"\"\"\n",
    "\n",
    "    ciphertext = ''\n",
    "\n",
    "    # --- IMPLEMENTATION GOES HERE ---\n",
    "\n",
    "    ''.join(fence(text, n))\n",
    "\n",
    "    # --------------------------------\n",
    "\n",
    "    return ciphertext\n",
    "\n",
    "\n",
    "def uoc_railfence_decrypt(ciphertext, key):\n",
    "    \"\"\"\n",
    "    Deciphers the ciphertext with the key, , using the modified rail fence cipher.\n",
    "    :param ciphertext: string, message to decipher (may contain upper and lower case letters, spaces,\n",
    "        and basic symbols (!, -, and _)\n",
    "    :param key: rail fence cipher key, as returned by uoc_railfence_genkey\n",
    "    :return: string, deciphered message\n",
    "    \"\"\"\n",
    "\n",
    "    plaintext = ''\n",
    "\n",
    "    # --- IMPLEMENTATION GOES HERE ---\n",
    "\n",
    "\n",
    "    # --------------------------------\n",
    "\n",
    "    return plaintext\n"
   ]
  },
  {
   "cell_type": "code",
   "execution_count": 55,
   "metadata": {},
   "outputs": [
    {
     "data": {
      "text/plain": [
       "(3, [(0, 4), (4, 0), (5, 1), (0, 2), (3, 0), (5, 3)])"
      ]
     },
     "execution_count": 55,
     "metadata": {},
     "output_type": "execute_result"
    }
   ],
   "source": [
    "uoc_railfence_genkey(5,6,4)"
   ]
  },
  {
   "cell_type": "code",
   "execution_count": null,
   "metadata": {},
   "outputs": [],
   "source": []
  },
  {
   "cell_type": "code",
   "execution_count": null,
   "metadata": {},
   "outputs": [],
   "source": []
  }
 ],
 "metadata": {
  "kernelspec": {
   "display_name": "Python 3",
   "language": "python",
   "name": "python3"
  },
  "language_info": {
   "codemirror_mode": {
    "name": "ipython",
    "version": 3
   },
   "file_extension": ".py",
   "mimetype": "text/x-python",
   "name": "python",
   "nbconvert_exporter": "python",
   "pygments_lexer": "ipython3",
   "version": "3.7.0"
  }
 },
 "nbformat": 4,
 "nbformat_minor": 2
}
